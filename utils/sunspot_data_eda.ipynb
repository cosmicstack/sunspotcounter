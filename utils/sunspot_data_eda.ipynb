{
 "cells": [
  {
   "cell_type": "markdown",
   "metadata": {},
   "source": [
    "# Exploratory Data Analysis for Sunspot data\n",
    "\n",
    "Source: WDC-SILSO, Royal Observatory of Belgium, Brussels (https://sidc.be/SILSO/datafiles)"
   ]
  },
  {
   "cell_type": "code",
   "execution_count": 1,
   "metadata": {},
   "outputs": [
    {
     "name": "stdout",
     "output_type": "stream",
     "text": [
      "Intel MKL WARNING: Support of Intel(R) Streaming SIMD Extensions 4.2 (Intel(R) SSE4.2) enabled only processors has been deprecated. Intel oneAPI Math Kernel Library 2025.0 will require Intel(R) Advanced Vector Extensions (Intel(R) AVX) instructions.\n",
      "Intel MKL WARNING: Support of Intel(R) Streaming SIMD Extensions 4.2 (Intel(R) SSE4.2) enabled only processors has been deprecated. Intel oneAPI Math Kernel Library 2025.0 will require Intel(R) Advanced Vector Extensions (Intel(R) AVX) instructions.\n"
     ]
    }
   ],
   "source": [
    "import numpy as np\n",
    "import pandas as pd\n",
    "import matplotlib.pyplot as plt"
   ]
  },
  {
   "cell_type": "code",
   "execution_count": 34,
   "metadata": {},
   "outputs": [],
   "source": [
    "df = pd.read_csv(\n",
    "    '../data/SN_d_tot_V2.0.csv', # data downloaded on 2024-12-18\n",
    "    delimiter=';', \n",
    "    header=None, \n",
    "    names=['year', 'month', 'day', 'dec_year', 'sn_value', 'sn_error', 'obs_num', 'definitive_ind']\n",
    ")"
   ]
  },
  {
   "cell_type": "code",
   "execution_count": 35,
   "metadata": {},
   "outputs": [
    {
     "data": {
      "text/html": [
       "<div>\n",
       "<style scoped>\n",
       "    .dataframe tbody tr th:only-of-type {\n",
       "        vertical-align: middle;\n",
       "    }\n",
       "\n",
       "    .dataframe tbody tr th {\n",
       "        vertical-align: top;\n",
       "    }\n",
       "\n",
       "    .dataframe thead th {\n",
       "        text-align: right;\n",
       "    }\n",
       "</style>\n",
       "<table border=\"1\" class=\"dataframe\">\n",
       "  <thead>\n",
       "    <tr style=\"text-align: right;\">\n",
       "      <th></th>\n",
       "      <th>year</th>\n",
       "      <th>month</th>\n",
       "      <th>day</th>\n",
       "      <th>dec_year</th>\n",
       "      <th>sn_value</th>\n",
       "      <th>sn_error</th>\n",
       "      <th>obs_num</th>\n",
       "      <th>definitive_ind</th>\n",
       "    </tr>\n",
       "  </thead>\n",
       "  <tbody>\n",
       "    <tr>\n",
       "      <th>0</th>\n",
       "      <td>1818</td>\n",
       "      <td>1</td>\n",
       "      <td>1</td>\n",
       "      <td>1818.001</td>\n",
       "      <td>-1</td>\n",
       "      <td>-1.0</td>\n",
       "      <td>0</td>\n",
       "      <td>1</td>\n",
       "    </tr>\n",
       "    <tr>\n",
       "      <th>1</th>\n",
       "      <td>1818</td>\n",
       "      <td>1</td>\n",
       "      <td>2</td>\n",
       "      <td>1818.004</td>\n",
       "      <td>-1</td>\n",
       "      <td>-1.0</td>\n",
       "      <td>0</td>\n",
       "      <td>1</td>\n",
       "    </tr>\n",
       "    <tr>\n",
       "      <th>2</th>\n",
       "      <td>1818</td>\n",
       "      <td>1</td>\n",
       "      <td>3</td>\n",
       "      <td>1818.007</td>\n",
       "      <td>-1</td>\n",
       "      <td>-1.0</td>\n",
       "      <td>0</td>\n",
       "      <td>1</td>\n",
       "    </tr>\n",
       "    <tr>\n",
       "      <th>3</th>\n",
       "      <td>1818</td>\n",
       "      <td>1</td>\n",
       "      <td>4</td>\n",
       "      <td>1818.010</td>\n",
       "      <td>-1</td>\n",
       "      <td>-1.0</td>\n",
       "      <td>0</td>\n",
       "      <td>1</td>\n",
       "    </tr>\n",
       "    <tr>\n",
       "      <th>4</th>\n",
       "      <td>1818</td>\n",
       "      <td>1</td>\n",
       "      <td>5</td>\n",
       "      <td>1818.012</td>\n",
       "      <td>-1</td>\n",
       "      <td>-1.0</td>\n",
       "      <td>0</td>\n",
       "      <td>1</td>\n",
       "    </tr>\n",
       "  </tbody>\n",
       "</table>\n",
       "</div>"
      ],
      "text/plain": [
       "   year  month  day  dec_year  sn_value  sn_error  obs_num  definitive_ind\n",
       "0  1818      1    1  1818.001        -1      -1.0        0               1\n",
       "1  1818      1    2  1818.004        -1      -1.0        0               1\n",
       "2  1818      1    3  1818.007        -1      -1.0        0               1\n",
       "3  1818      1    4  1818.010        -1      -1.0        0               1\n",
       "4  1818      1    5  1818.012        -1      -1.0        0               1"
      ]
     },
     "execution_count": 35,
     "metadata": {},
     "output_type": "execute_result"
    }
   ],
   "source": [
    "df.head()"
   ]
  },
  {
   "cell_type": "code",
   "execution_count": 36,
   "metadata": {},
   "outputs": [
    {
     "data": {
      "text/plain": [
       "75575"
      ]
     },
     "execution_count": 36,
     "metadata": {},
     "output_type": "execute_result"
    }
   ],
   "source": [
    "len(df)"
   ]
  },
  {
   "cell_type": "code",
   "execution_count": 37,
   "metadata": {},
   "outputs": [],
   "source": [
    "df['date'] = pd.to_datetime(df[['year', 'month', 'day']])"
   ]
  },
  {
   "cell_type": "code",
   "execution_count": 38,
   "metadata": {},
   "outputs": [
    {
     "data": {
      "text/html": [
       "<div>\n",
       "<style scoped>\n",
       "    .dataframe tbody tr th:only-of-type {\n",
       "        vertical-align: middle;\n",
       "    }\n",
       "\n",
       "    .dataframe tbody tr th {\n",
       "        vertical-align: top;\n",
       "    }\n",
       "\n",
       "    .dataframe thead th {\n",
       "        text-align: right;\n",
       "    }\n",
       "</style>\n",
       "<table border=\"1\" class=\"dataframe\">\n",
       "  <thead>\n",
       "    <tr style=\"text-align: right;\">\n",
       "      <th></th>\n",
       "      <th>year</th>\n",
       "      <th>month</th>\n",
       "      <th>day</th>\n",
       "      <th>dec_year</th>\n",
       "      <th>sn_value</th>\n",
       "      <th>sn_error</th>\n",
       "      <th>obs_num</th>\n",
       "      <th>definitive_ind</th>\n",
       "      <th>date</th>\n",
       "    </tr>\n",
       "  </thead>\n",
       "  <tbody>\n",
       "    <tr>\n",
       "      <th>75565</th>\n",
       "      <td>2024</td>\n",
       "      <td>11</td>\n",
       "      <td>21</td>\n",
       "      <td>2024.889</td>\n",
       "      <td>115</td>\n",
       "      <td>19.2</td>\n",
       "      <td>21</td>\n",
       "      <td>0</td>\n",
       "      <td>2024-11-21</td>\n",
       "    </tr>\n",
       "    <tr>\n",
       "      <th>75566</th>\n",
       "      <td>2024</td>\n",
       "      <td>11</td>\n",
       "      <td>22</td>\n",
       "      <td>2024.892</td>\n",
       "      <td>143</td>\n",
       "      <td>19.7</td>\n",
       "      <td>29</td>\n",
       "      <td>0</td>\n",
       "      <td>2024-11-22</td>\n",
       "    </tr>\n",
       "    <tr>\n",
       "      <th>75567</th>\n",
       "      <td>2024</td>\n",
       "      <td>11</td>\n",
       "      <td>23</td>\n",
       "      <td>2024.895</td>\n",
       "      <td>151</td>\n",
       "      <td>21.2</td>\n",
       "      <td>18</td>\n",
       "      <td>0</td>\n",
       "      <td>2024-11-23</td>\n",
       "    </tr>\n",
       "    <tr>\n",
       "      <th>75568</th>\n",
       "      <td>2024</td>\n",
       "      <td>11</td>\n",
       "      <td>24</td>\n",
       "      <td>2024.898</td>\n",
       "      <td>171</td>\n",
       "      <td>27.0</td>\n",
       "      <td>20</td>\n",
       "      <td>0</td>\n",
       "      <td>2024-11-24</td>\n",
       "    </tr>\n",
       "    <tr>\n",
       "      <th>75569</th>\n",
       "      <td>2024</td>\n",
       "      <td>11</td>\n",
       "      <td>25</td>\n",
       "      <td>2024.900</td>\n",
       "      <td>167</td>\n",
       "      <td>22.2</td>\n",
       "      <td>22</td>\n",
       "      <td>0</td>\n",
       "      <td>2024-11-25</td>\n",
       "    </tr>\n",
       "    <tr>\n",
       "      <th>75570</th>\n",
       "      <td>2024</td>\n",
       "      <td>11</td>\n",
       "      <td>26</td>\n",
       "      <td>2024.903</td>\n",
       "      <td>160</td>\n",
       "      <td>22.1</td>\n",
       "      <td>30</td>\n",
       "      <td>0</td>\n",
       "      <td>2024-11-26</td>\n",
       "    </tr>\n",
       "    <tr>\n",
       "      <th>75571</th>\n",
       "      <td>2024</td>\n",
       "      <td>11</td>\n",
       "      <td>27</td>\n",
       "      <td>2024.906</td>\n",
       "      <td>205</td>\n",
       "      <td>32.3</td>\n",
       "      <td>18</td>\n",
       "      <td>0</td>\n",
       "      <td>2024-11-27</td>\n",
       "    </tr>\n",
       "    <tr>\n",
       "      <th>75572</th>\n",
       "      <td>2024</td>\n",
       "      <td>11</td>\n",
       "      <td>28</td>\n",
       "      <td>2024.908</td>\n",
       "      <td>170</td>\n",
       "      <td>19.7</td>\n",
       "      <td>30</td>\n",
       "      <td>0</td>\n",
       "      <td>2024-11-28</td>\n",
       "    </tr>\n",
       "    <tr>\n",
       "      <th>75573</th>\n",
       "      <td>2024</td>\n",
       "      <td>11</td>\n",
       "      <td>29</td>\n",
       "      <td>2024.911</td>\n",
       "      <td>161</td>\n",
       "      <td>20.3</td>\n",
       "      <td>30</td>\n",
       "      <td>0</td>\n",
       "      <td>2024-11-29</td>\n",
       "    </tr>\n",
       "    <tr>\n",
       "      <th>75574</th>\n",
       "      <td>2024</td>\n",
       "      <td>11</td>\n",
       "      <td>30</td>\n",
       "      <td>2024.914</td>\n",
       "      <td>121</td>\n",
       "      <td>14.8</td>\n",
       "      <td>22</td>\n",
       "      <td>0</td>\n",
       "      <td>2024-11-30</td>\n",
       "    </tr>\n",
       "  </tbody>\n",
       "</table>\n",
       "</div>"
      ],
      "text/plain": [
       "       year  month  day  dec_year  sn_value  sn_error  obs_num  \\\n",
       "75565  2024     11   21  2024.889       115      19.2       21   \n",
       "75566  2024     11   22  2024.892       143      19.7       29   \n",
       "75567  2024     11   23  2024.895       151      21.2       18   \n",
       "75568  2024     11   24  2024.898       171      27.0       20   \n",
       "75569  2024     11   25  2024.900       167      22.2       22   \n",
       "75570  2024     11   26  2024.903       160      22.1       30   \n",
       "75571  2024     11   27  2024.906       205      32.3       18   \n",
       "75572  2024     11   28  2024.908       170      19.7       30   \n",
       "75573  2024     11   29  2024.911       161      20.3       30   \n",
       "75574  2024     11   30  2024.914       121      14.8       22   \n",
       "\n",
       "       definitive_ind       date  \n",
       "75565               0 2024-11-21  \n",
       "75566               0 2024-11-22  \n",
       "75567               0 2024-11-23  \n",
       "75568               0 2024-11-24  \n",
       "75569               0 2024-11-25  \n",
       "75570               0 2024-11-26  \n",
       "75571               0 2024-11-27  \n",
       "75572               0 2024-11-28  \n",
       "75573               0 2024-11-29  \n",
       "75574               0 2024-11-30  "
      ]
     },
     "execution_count": 38,
     "metadata": {},
     "output_type": "execute_result"
    }
   ],
   "source": [
    "df.iloc[-10:]"
   ]
  },
  {
   "cell_type": "code",
   "execution_count": 47,
   "metadata": {},
   "outputs": [
    {
     "data": {
      "text/plain": [
       "12753"
      ]
     },
     "execution_count": 47,
     "metadata": {},
     "output_type": "execute_result"
    }
   ],
   "source": [
    "df_recent = df[df['date'] >= '1990-01-01'].copy()\n",
    "df_recent = df_recent.set_index('date')\n",
    "len(df_recent)"
   ]
  },
  {
   "cell_type": "code",
   "execution_count": 48,
   "metadata": {},
   "outputs": [
    {
     "data": {
      "text/html": [
       "<div>\n",
       "<style scoped>\n",
       "    .dataframe tbody tr th:only-of-type {\n",
       "        vertical-align: middle;\n",
       "    }\n",
       "\n",
       "    .dataframe tbody tr th {\n",
       "        vertical-align: top;\n",
       "    }\n",
       "\n",
       "    .dataframe thead th {\n",
       "        text-align: right;\n",
       "    }\n",
       "</style>\n",
       "<table border=\"1\" class=\"dataframe\">\n",
       "  <thead>\n",
       "    <tr style=\"text-align: right;\">\n",
       "      <th></th>\n",
       "      <th>year</th>\n",
       "      <th>month</th>\n",
       "      <th>day</th>\n",
       "      <th>dec_year</th>\n",
       "      <th>sn_value</th>\n",
       "      <th>sn_error</th>\n",
       "      <th>obs_num</th>\n",
       "      <th>definitive_ind</th>\n",
       "    </tr>\n",
       "    <tr>\n",
       "      <th>date</th>\n",
       "      <th></th>\n",
       "      <th></th>\n",
       "      <th></th>\n",
       "      <th></th>\n",
       "      <th></th>\n",
       "      <th></th>\n",
       "      <th></th>\n",
       "      <th></th>\n",
       "    </tr>\n",
       "  </thead>\n",
       "  <tbody>\n",
       "    <tr>\n",
       "      <th>1990-01-01</th>\n",
       "      <td>1990</td>\n",
       "      <td>1</td>\n",
       "      <td>1</td>\n",
       "      <td>1990.001</td>\n",
       "      <td>239</td>\n",
       "      <td>8.6</td>\n",
       "      <td>13</td>\n",
       "      <td>1</td>\n",
       "    </tr>\n",
       "    <tr>\n",
       "      <th>1990-01-02</th>\n",
       "      <td>1990</td>\n",
       "      <td>1</td>\n",
       "      <td>2</td>\n",
       "      <td>1990.004</td>\n",
       "      <td>226</td>\n",
       "      <td>12.8</td>\n",
       "      <td>13</td>\n",
       "      <td>1</td>\n",
       "    </tr>\n",
       "    <tr>\n",
       "      <th>1990-01-03</th>\n",
       "      <td>1990</td>\n",
       "      <td>1</td>\n",
       "      <td>3</td>\n",
       "      <td>1990.007</td>\n",
       "      <td>213</td>\n",
       "      <td>13.0</td>\n",
       "      <td>17</td>\n",
       "      <td>1</td>\n",
       "    </tr>\n",
       "    <tr>\n",
       "      <th>1990-01-04</th>\n",
       "      <td>1990</td>\n",
       "      <td>1</td>\n",
       "      <td>4</td>\n",
       "      <td>1990.010</td>\n",
       "      <td>223</td>\n",
       "      <td>10.5</td>\n",
       "      <td>15</td>\n",
       "      <td>1</td>\n",
       "    </tr>\n",
       "    <tr>\n",
       "      <th>1990-01-05</th>\n",
       "      <td>1990</td>\n",
       "      <td>1</td>\n",
       "      <td>5</td>\n",
       "      <td>1990.012</td>\n",
       "      <td>210</td>\n",
       "      <td>9.0</td>\n",
       "      <td>17</td>\n",
       "      <td>1</td>\n",
       "    </tr>\n",
       "  </tbody>\n",
       "</table>\n",
       "</div>"
      ],
      "text/plain": [
       "            year  month  day  dec_year  sn_value  sn_error  obs_num  \\\n",
       "date                                                                  \n",
       "1990-01-01  1990      1    1  1990.001       239       8.6       13   \n",
       "1990-01-02  1990      1    2  1990.004       226      12.8       13   \n",
       "1990-01-03  1990      1    3  1990.007       213      13.0       17   \n",
       "1990-01-04  1990      1    4  1990.010       223      10.5       15   \n",
       "1990-01-05  1990      1    5  1990.012       210       9.0       17   \n",
       "\n",
       "            definitive_ind  \n",
       "date                        \n",
       "1990-01-01               1  \n",
       "1990-01-02               1  \n",
       "1990-01-03               1  \n",
       "1990-01-04               1  \n",
       "1990-01-05               1  "
      ]
     },
     "execution_count": 48,
     "metadata": {},
     "output_type": "execute_result"
    }
   ],
   "source": [
    "df_recent.head()"
   ]
  },
  {
   "cell_type": "code",
   "execution_count": 49,
   "metadata": {},
   "outputs": [
    {
     "data": {
      "text/plain": [
       "definitive_ind\n",
       "0      153\n",
       "1    12600\n",
       "dtype: int64"
      ]
     },
     "execution_count": 49,
     "metadata": {},
     "output_type": "execute_result"
    }
   ],
   "source": [
    "# definitive_ind: 1 = definitive, 0 = provisional\n",
    "# Use data that is definitive only\n",
    "df_recent.groupby('definitive_ind').size()"
   ]
  },
  {
   "cell_type": "code",
   "execution_count": 50,
   "metadata": {},
   "outputs": [
    {
     "data": {
      "text/plain": [
       "year\n",
       "2024    153\n",
       "dtype: int64"
      ]
     },
     "execution_count": 50,
     "metadata": {},
     "output_type": "execute_result"
    }
   ],
   "source": [
    "df_recent[df_recent['definitive_ind'] == 0].groupby('year').size()"
   ]
  },
  {
   "cell_type": "code",
   "execution_count": 51,
   "metadata": {},
   "outputs": [
    {
     "data": {
      "text/html": [
       "<div>\n",
       "<style scoped>\n",
       "    .dataframe tbody tr th:only-of-type {\n",
       "        vertical-align: middle;\n",
       "    }\n",
       "\n",
       "    .dataframe tbody tr th {\n",
       "        vertical-align: top;\n",
       "    }\n",
       "\n",
       "    .dataframe thead th {\n",
       "        text-align: right;\n",
       "    }\n",
       "</style>\n",
       "<table border=\"1\" class=\"dataframe\">\n",
       "  <thead>\n",
       "    <tr style=\"text-align: right;\">\n",
       "      <th></th>\n",
       "      <th>month</th>\n",
       "      <th>day</th>\n",
       "      <th>dec_year</th>\n",
       "      <th>sn_value</th>\n",
       "      <th>sn_error</th>\n",
       "      <th>obs_num</th>\n",
       "      <th>definitive_ind</th>\n",
       "    </tr>\n",
       "    <tr>\n",
       "      <th>year</th>\n",
       "      <th></th>\n",
       "      <th></th>\n",
       "      <th></th>\n",
       "      <th></th>\n",
       "      <th></th>\n",
       "      <th></th>\n",
       "      <th></th>\n",
       "    </tr>\n",
       "  </thead>\n",
       "  <tbody>\n",
       "    <tr>\n",
       "      <th>2024</th>\n",
       "      <td>7</td>\n",
       "      <td>1</td>\n",
       "      <td>2024.499</td>\n",
       "      <td>70</td>\n",
       "      <td>9.7</td>\n",
       "      <td>14</td>\n",
       "      <td>0</td>\n",
       "    </tr>\n",
       "  </tbody>\n",
       "</table>\n",
       "</div>"
      ],
      "text/plain": [
       "      month  day  dec_year  sn_value  sn_error  obs_num  definitive_ind\n",
       "year                                                                   \n",
       "2024      7    1  2024.499        70       9.7       14               0"
      ]
     },
     "execution_count": 51,
     "metadata": {},
     "output_type": "execute_result"
    }
   ],
   "source": [
    "df_recent[df_recent['definitive_ind'] == 0].groupby('year').min('date')"
   ]
  },
  {
   "cell_type": "code",
   "execution_count": 52,
   "metadata": {},
   "outputs": [],
   "source": [
    "df_recent = df_recent[df_recent['definitive_ind'] == 1]"
   ]
  },
  {
   "cell_type": "code",
   "execution_count": 59,
   "metadata": {},
   "outputs": [
    {
     "data": {
      "image/png": "[encoded data removed]",
      "text/plain": [
       "<Figure size 1200x800 with 1 Axes>"
      ]
     },
     "metadata": {},
     "output_type": "display_data"
    }
   ],
   "source": [
    "plt.figure(figsize=(12, 8))\n",
    "plt.plot(df_recent.index, df_recent['sn_value'], linewidth=0.5, c='grey')\n",
    "plt.xlabel('Year')\n",
    "plt.ylabel('Sunspot number')\n",
    "plt.title('Sunspot number')\n",
    "plt.show()"
   ]
  },
  {
   "cell_type": "code",
   "execution_count": null,
   "metadata": {},
   "outputs": [],
   "source": []
  }
 ],
 "metadata": {
  "kernelspec": {
   "display_name": "pytorch-env",
   "language": "python",
   "name": "python3"
  },
  "language_info": {
   "codemirror_mode": {
    "name": "ipython",
    "version": 3
   },
   "file_extension": ".py",
   "mimetype": "text/x-python",
   "name": "python",
   "nbconvert_exporter": "python",
   "pygments_lexer": "ipython3",
   "version": "3.12.2"
  }
 },
 "nbformat": 4,
 "nbformat_minor": 2
}
